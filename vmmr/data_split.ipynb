{
 "cells": [
  {
   "cell_type": "code",
   "execution_count": 11,
   "metadata": {},
   "outputs": [],
   "source": [
    "# Go through all the \"class\" folders\n",
    "# Get the file names and divide them into train-test-split\n",
    "# Move the files into that class folder in respective category"
   ]
  },
  {
   "cell_type": "code",
   "execution_count": 12,
   "metadata": {},
   "outputs": [],
   "source": [
    "import os\n",
    "import pandas as pd\n",
    "import shutil\n",
    "import numpy as np\n",
    "from sklearn.model_selection import train_test_split"
   ]
  },
  {
   "cell_type": "code",
   "execution_count": 13,
   "metadata": {},
   "outputs": [],
   "source": [
    "root = '' # Insert root directory here"
   ]
  },
  {
   "cell_type": "code",
   "execution_count": 14,
   "metadata": {},
   "outputs": [],
   "source": [
    "data_root_source = \"data_classes_raw\"\n",
    "data_dest_root = \"data_split\""
   ]
  },
  {
   "cell_type": "code",
   "execution_count": 15,
   "metadata": {},
   "outputs": [],
   "source": [
    "os.mkdir(os.path.join(\"data_split\"))"
   ]
  },
  {
   "cell_type": "code",
   "execution_count": 16,
   "metadata": {},
   "outputs": [],
   "source": [
    "# Load classes\n",
    "all_classes = ['VOLVO_FM12', 'HINO_FN2P', 'SINOTRUK_A7', 'HINO_SH1E', 'MITSUBISHI_FP517']\n",
    "# all_classes = ['HINO', 'MITSUBISHI', 'NISSAN', 'VOLVO']"
   ]
  },
  {
   "cell_type": "code",
   "execution_count": 17,
   "metadata": {},
   "outputs": [],
   "source": [
    "for category in all_classes:\n",
    "    data_source = os.path.join(data_root_source, category)\n",
    "\n",
    "    # Obtain all file paths for this category\n",
    "    img_names = []\n",
    "    for child in os.listdir(data_source):\n",
    "        img = os.path.join(data_source, child) \n",
    "        img_names.append(img)\n",
    "\n",
    "    # Determine train test split for this category\n",
    "        # Shuffle data\n",
    "    [train, others] = train_test_split(img_names, test_size=0.30, random_state=42)\n",
    "        # Split according to ratio\n",
    "    [test, val] = train_test_split(others, test_size=0.50, random_state=42)\n",
    "    \n",
    "    # Move the image into the correct folder\n",
    "    for folder in ['TRAIN', 'TEST', 'VAL']:\n",
    "        if folder == 'TRAIN': dataset = train\n",
    "        elif folder == 'TEST': dataset = test\n",
    "        else: dataset = val\n",
    "\n",
    "        folder_path = os.path.join(data_dest_root, folder)\n",
    "        category_path = os.path.join(data_dest_root, folder, category)\n",
    "        if not os.path.isdir(folder_path):\n",
    "            os.mkdir(folder_path)\n",
    "        if not os.path.isdir(category_path):\n",
    "            os.mkdir(category_path)\n",
    "\n",
    "        for item in dataset:\n",
    "            img_name = item.split('/')[-1]\n",
    "            dest_file = os.path.join(data_dest_root, folder, category, img_name)\n",
    "            # print(item, dest_file)\n",
    "            \n",
    "            shutil.copyfile(item, dest_file)\n",
    "        \n",
    "    \n",
    "    "
   ]
  }
 ],
 "metadata": {
  "kernelspec": {
   "display_name": "vmmr",
   "language": "python",
   "name": "python3"
  },
  "language_info": {
   "codemirror_mode": {
    "name": "ipython",
    "version": 3
   },
   "file_extension": ".py",
   "mimetype": "text/x-python",
   "name": "python",
   "nbconvert_exporter": "python",
   "pygments_lexer": "ipython3",
   "version": "3.8.16"
  },
  "orig_nbformat": 4
 },
 "nbformat": 4,
 "nbformat_minor": 2
}
