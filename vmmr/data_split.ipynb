{
 "cells": [
  {
   "attachments": {},
   "cell_type": "markdown",
   "metadata": {},
   "source": [
    "# Vehicle Make Model Recognition Data Preparation\n",
    "\n",
    "Objective of this project is to train a classifier model - specifically, a model that receives an image of a vehicle as input and then outputs a predicted label indicating the vehicle's **make and model**.\n",
    "\n",
    "For this experiment, we will only be using the top 5 classes of vehicles to perform the training.\n",
    "\n",
    "In order to prepare the dataset, we will split the images in these 5 folders into **TRAIN**, **TEST** and **VAL** folders.\n",
    "\n",
    "For example:\n",
    "```\n",
    "├── <vehicle make and model 1>\n",
    "│   ├── <image of vehicle no. 1>\n",
    "│   ├── <image of vehicle no. 2>\n",
    "│   ├── <image of vehicle no. 3>\n",
    "├── <vehicle make and model 2>\n",
    "├── <vehicle make and model 3>\n",
    "```\n",
    "\n",
    "i.e. \n",
    "```\n",
    "├── TRAIN\n",
    "    ├── Toyota Prius\n",
    "    │   ├── 10_0_0_2.jpg\n",
    "    │   ├── 40_5_2_5.jpg\n",
    "    │   ├── 45_0_1_6.jpg\n",
    "    ├── Toyota Camry\n",
    "    ├── Honda Civic\n",
    "├── TEST \n",
    "    ├── Toyota Camry\n",
    "    ├── Honda Civic\n",
    "```"
   ]
  },
  {
   "cell_type": "code",
   "execution_count": null,
   "metadata": {},
   "outputs": [],
   "source": [
    "import os\n",
    "import pandas as pd\n",
    "import shutil\n",
    "import numpy as np\n",
    "from sklearn.model_selection import train_test_split"
   ]
  },
  {
   "cell_type": "code",
   "execution_count": null,
   "metadata": {},
   "outputs": [],
   "source": [
    "root = '' # Insert root directory here"
   ]
  },
  {
   "cell_type": "code",
   "execution_count": null,
   "metadata": {},
   "outputs": [],
   "source": [
    "data_root_source = \"data_classes_raw-old\"\n",
    "data_dest_root = \"data_split\""
   ]
  },
  {
   "cell_type": "code",
   "execution_count": null,
   "metadata": {},
   "outputs": [],
   "source": [
    "os.mkdir(os.path.join(\"data_split\"))"
   ]
  },
  {
   "attachments": {},
   "cell_type": "markdown",
   "metadata": {},
   "source": [
    "## Analzying the data distribution"
   ]
  },
  {
   "cell_type": "code",
   "execution_count": null,
   "metadata": {},
   "outputs": [],
   "source": [
    "import os\n",
    "data = dict()\n",
    "total = 0\n",
    "for category in os.listdir(data_root_source):\n",
    "    if category == 'OTHER_CLASSES': continue\n",
    "    class_num = len(os.listdir(os.path.join(data_root_source, category)))\n",
    "    data[category] = class_num\n",
    "    total += class_num\n",
    "\n",
    "data"
   ]
  },
  {
   "cell_type": "code",
   "execution_count": null,
   "metadata": {},
   "outputs": [],
   "source": [
    "import pandas as pd\n",
    "df = pd.DataFrame.from_dict(data, orient='index', columns=['count'])\n",
    "df = df.sort_values(by='count', ascending=False)\n",
    "df"
   ]
  },
  {
   "attachments": {},
   "cell_type": "markdown",
   "metadata": {},
   "source": [
    "## Creating the TRAIN, TEST, VAL folders\n"
   ]
  },
  {
   "cell_type": "code",
   "execution_count": null,
   "metadata": {},
   "outputs": [],
   "source": [
    "# Load classes\n",
    "all_classes = df.head(5).index.tolist()\n",
    "# ['VOLVO_FM12', 'HINO_FN2P', 'SINOTRUK_A7', 'HINO_SH1E', 'MITSUBISHI_FP517']"
   ]
  },
  {
   "cell_type": "code",
   "execution_count": null,
   "metadata": {},
   "outputs": [],
   "source": [
    "all_classes"
   ]
  },
  {
   "cell_type": "code",
   "execution_count": null,
   "metadata": {},
   "outputs": [],
   "source": [
    "for category in all_classes:\n",
    "    data_source = os.path.join(data_root_source, category)\n",
    "\n",
    "    # Obtain all file paths for this category\n",
    "    img_names = []\n",
    "    for child in os.listdir(data_source):\n",
    "        img = os.path.join(data_source, child) \n",
    "        img_names.append(img)\n",
    "\n",
    "    # Determine train test split for this category\n",
    "        # Shuffle data\n",
    "    [train, others] = train_test_split(img_names, test_size=0.30, random_state=42)\n",
    "        # Split according to ratio\n",
    "    [test, val] = train_test_split(others, test_size=0.50, random_state=42)\n",
    "    \n",
    "    # Move the image into the correct folder\n",
    "    for folder in ['TRAIN', 'TEST', 'VAL']:\n",
    "        if folder == 'TRAIN': dataset = train\n",
    "        elif folder == 'TEST': dataset = test\n",
    "        else: dataset = val\n",
    "\n",
    "        folder_path = os.path.join(data_dest_root, folder)\n",
    "        category_path = os.path.join(data_dest_root, folder, category)\n",
    "        if not os.path.isdir(folder_path):\n",
    "            os.mkdir(folder_path)\n",
    "        if not os.path.isdir(category_path):\n",
    "            os.mkdir(category_path)\n",
    "\n",
    "        for item in dataset:\n",
    "            img_name = item.split('/')[-1]\n",
    "            dest_file = os.path.join(data_dest_root, folder, category, img_name)\n",
    "            # print(item, dest_file)\n",
    "            \n",
    "            shutil.copyfile(item, dest_file)\n",
    "        \n",
    "    \n",
    "    "
   ]
  }
 ],
 "metadata": {
  "kernelspec": {
   "display_name": "vmmr",
   "language": "python",
   "name": "python3"
  },
  "language_info": {
   "codemirror_mode": {
    "name": "ipython",
    "version": 3
   },
   "file_extension": ".py",
   "mimetype": "text/x-python",
   "name": "python",
   "nbconvert_exporter": "python",
   "pygments_lexer": "ipython3",
   "version": "3.10.9"
  },
  "orig_nbformat": 4
 },
 "nbformat": 4,
 "nbformat_minor": 2
}
