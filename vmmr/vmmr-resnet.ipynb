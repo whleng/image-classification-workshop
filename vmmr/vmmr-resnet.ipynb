{
 "cells": [
  {
   "attachments": {},
   "cell_type": "markdown",
   "metadata": {},
   "source": [
    "# Vehicle Make Model Recognition\n",
    "\n",
    "## Objective\n",
    "Objective of this project is to train a classifier model - specifically, a model that receives an image of a vehicle as input and then outputs a predicted label indicating the vehicle's **make and model**.\n",
    "\n",
    "Previously, we used the ```data_split.ipynb``` to split the dataset into train, test, val folders.\n",
    "\n",
    "## Task Overview\n",
    "This notebook contains a basic ResNet50 model for classifying the vehicles. You may adjust the training parameters to finetune the model, including but not limited to the **epochs** and **learning_rate**.\n",
    "\n",
    "You may also explore other types of classification models such as VGG, Inception, EfficientNet, etc. More details about models you can explore can be found here: https://www.tensorflow.org/api_docs/python/tf/keras/applications/vgg16/VGG16  \n",
    " \n",
    "\n",
    "## To-dos\n",
    "1. Try changing the learning rate and number of epochs to see how it affects the model\n",
    "2. Explore other classification models\n",
    "3. Try out other parameters in the ResNet50 model\n",
    "4. Improve the model through techniques of balancing the imbalanced dataset\n",
    "5. Plot ROC metrics for the training"
   ]
  },
  {
   "attachments": {},
   "cell_type": "markdown",
   "metadata": {},
   "source": [
    "## Training"
   ]
  },
  {
   "cell_type": "code",
   "execution_count": null,
   "metadata": {},
   "outputs": [],
   "source": [
    "import tensorflow as tf"
   ]
  },
  {
   "cell_type": "code",
   "execution_count": null,
   "metadata": {},
   "outputs": [],
   "source": [
    "# Load image from directory\n",
    "root = 'data_split' # Insert path of root folder here\n",
    "TRAINING_FOLDER = root + \"/TRAIN/\"\n",
    "VALIDATION_FOLDER = root + \"/VAL/\"\n",
    "NUMBER_OF_CLASSES = 5"
   ]
  },
  {
   "cell_type": "code",
   "execution_count": null,
   "metadata": {},
   "outputs": [],
   "source": [
    "all_classes = sorted(['VOLVO_FM12', 'HINO_FN2P', 'SINOTRUK_A7', 'HINO_SH1E', 'MITSUBISHI_FP517'])\n"
   ]
  },
  {
   "cell_type": "code",
   "execution_count": null,
   "metadata": {},
   "outputs": [],
   "source": [
    "# Training parameters to change\n",
    "epochs = 10\n",
    "learning_rate = 0.0005"
   ]
  },
  {
   "cell_type": "code",
   "execution_count": null,
   "metadata": {},
   "outputs": [],
   "source": [
    "# Preparation of dataset\n",
    "\n",
    "train_ds = tf.keras.utils.image_dataset_from_directory(\n",
    "    directory=TRAINING_FOLDER,\n",
    "    seed=123,\n",
    "    image_size=(224, 224),\n",
    "    batch_size=2,\n",
    "    label_mode='categorical'\n",
    ")\n",
    "print(train_ds.class_names)\n",
    "\n",
    "val_ds = tf.keras.utils.image_dataset_from_directory(\n",
    "    directory=VALIDATION_FOLDER,\n",
    "    seed=123,\n",
    "    image_size=(224, 224),\n",
    "    batch_size=2,\n",
    "    label_mode='categorical'\n",
    ")"
   ]
  },
  {
   "cell_type": "code",
   "execution_count": null,
   "metadata": {},
   "outputs": [],
   "source": [
    "# Define model\n",
    "# Refer here for other parameters to be added: \n",
    "# https://www.tensorflow.org/api_docs/python/tf/keras/applications/resnet50/ResNet50\n",
    "\n",
    "base_model = tf.keras.applications.ResNet50(\n",
    "    include_top=False,\n",
    "    input_shape=(224, 224, 3),\n",
    "    weights='imagenet'\n",
    ")\n",
    "base_model.trainable = False"
   ]
  },
  {
   "cell_type": "code",
   "execution_count": null,
   "metadata": {},
   "outputs": [],
   "source": [
    "\n",
    "inputs = tf.keras.Input(shape=(224, 224, 3))\n",
    "x = base_model(inputs, training=False)\n",
    "x = tf.keras.layers.GlobalAveragePooling2D()(x)\n",
    "outputs = tf.keras.layers.Dense(NUMBER_OF_CLASSES, activation='softmax')(x)\n",
    "model = tf.keras.Model(inputs, outputs)\n",
    "\n",
    "model.compile(optimizer=tf.keras.optimizers.Adam(learning_rate=learning_rate),\n",
    "              loss=tf.keras.losses.categorical_crossentropy,\n",
    "              metrics=tf.keras.metrics.categorical_accuracy)\n",
    "print(model.summary())"
   ]
  },
  {
   "cell_type": "code",
   "execution_count": null,
   "metadata": {},
   "outputs": [],
   "source": [
    "# Training\n",
    "history = model.fit(train_ds,\n",
    "          epochs=epochs,\n",
    "          validation_data=val_ds)"
   ]
  },
  {
   "cell_type": "code",
   "execution_count": null,
   "metadata": {},
   "outputs": [],
   "source": [
    "from matplotlib import pyplot as plt\n",
    "\n",
    "def plot_metrics(history):\n",
    "  metrics = ['loss', 'categorical_accuracy']\n",
    "  for n, metric in enumerate(metrics):\n",
    "    name = metric.replace(\"_\",\" \").capitalize()\n",
    "    plt.subplot(2,2,n+1)\n",
    "    plt.plot(history.epoch, history.history[metric], color='blue', label='Train')\n",
    "    plt.plot(history.epoch, history.history['val_'+metric],\n",
    "             color='blue', linestyle=\"--\", label='Val')\n",
    "    plt.xlabel('Epoch')\n",
    "    plt.ylabel(name)\n",
    "    if metric == 'loss':\n",
    "      plt.ylim([0, plt.ylim()[1]])\n",
    "    elif metric == 'auc':\n",
    "      plt.ylim([0.8,1])\n",
    "    else:\n",
    "      plt.ylim([0,1])\n",
    "\n",
    "    plt.legend()\n",
    "\n",
    "plot_metrics(history)"
   ]
  },
  {
   "cell_type": "code",
   "execution_count": null,
   "metadata": {},
   "outputs": [],
   "source": [
    "# Output model\n",
    "model.save(\"my_model\")"
   ]
  },
  {
   "attachments": {},
   "cell_type": "markdown",
   "metadata": {},
   "source": [
    "## Evaluation"
   ]
  },
  {
   "cell_type": "code",
   "execution_count": null,
   "metadata": {},
   "outputs": [],
   "source": [
    "import tensorflow as tf"
   ]
  },
  {
   "cell_type": "code",
   "execution_count": null,
   "metadata": {},
   "outputs": [],
   "source": [
    "import numpy as np\n",
    "import os\n",
    "from sklearn.metrics import classification_report"
   ]
  },
  {
   "cell_type": "code",
   "execution_count": null,
   "metadata": {},
   "outputs": [],
   "source": [
    "# load images from directory\n",
    "TEST_FOLDER = \"data_split/TEST/\""
   ]
  },
  {
   "cell_type": "code",
   "execution_count": null,
   "metadata": {},
   "outputs": [],
   "source": [
    "# load model\n",
    "MODEL = 'my_model'\n",
    "model = tf.keras.models.load_model(MODEL)"
   ]
  },
  {
   "cell_type": "code",
   "execution_count": null,
   "metadata": {},
   "outputs": [],
   "source": [
    "all_classes = sorted(['VOLVO_FM12', 'HINO_FN2P', 'SINOTRUK_A7', 'HINO_SH1E', 'MITSUBISHI_FP517'])\n"
   ]
  },
  {
   "cell_type": "code",
   "execution_count": null,
   "metadata": {},
   "outputs": [],
   "source": [
    "# Pred\n",
    "preds = []\n",
    "actual = []\n",
    "\n",
    "for i in range(len(all_classes)):\n",
    "    category = all_classes[i]\n",
    "    class_folder = os.path.join(TEST_FOLDER, category)\n",
    "\n",
    "    img_array = []\n",
    "\n",
    "    for file in os.listdir(class_folder):\n",
    "        img_path = os.path.join(TEST_FOLDER, category, file)\n",
    "\n",
    "        img = tf.keras.utils.load_img(img_path, target_size=(224, 224))\n",
    "        new_img = tf.keras.utils.img_to_array(img)\n",
    "\n",
    "        if len(img_array) == 0:\n",
    "            img_array = np.array([new_img])\n",
    "        else:\n",
    "            img_array = np.vstack((img_array, [new_img]))\n",
    "        actual.append(i)\n",
    "    \n",
    "\n",
    "    predictions = model.predict(img_array)\n",
    "    score = tf.nn.softmax(predictions)\n",
    "    pred_class = np.argmax(score, axis=1)\n",
    "    preds += pred_class.flatten().tolist()"
   ]
  },
  {
   "cell_type": "code",
   "execution_count": null,
   "metadata": {},
   "outputs": [],
   "source": [
    "print(classification_report(actual, preds, target_names=all_classes))"
   ]
  },
  {
   "cell_type": "code",
   "execution_count": null,
   "metadata": {},
   "outputs": [],
   "source": [
    "from sklearn.metrics import confusion_matrix, ConfusionMatrixDisplay\n",
    "import matplotlib.pyplot as plt\n",
    "cm = confusion_matrix(actual, preds)\n",
    "cmn = cm.astype('float') / cm.sum(axis=1)[:, np.newaxis]\n",
    "disp = ConfusionMatrixDisplay(confusion_matrix=cmn, display_labels=all_classes)\n",
    "disp.plot()\n",
    "plt.show()"
   ]
  },
  {
   "attachments": {},
   "cell_type": "markdown",
   "metadata": {},
   "source": [
    "# Prediction"
   ]
  },
  {
   "cell_type": "code",
   "execution_count": null,
   "metadata": {},
   "outputs": [],
   "source": [
    "# load model\n",
    "MODEL = 'my_model'\n",
    "model = tf.keras.models.load_model(MODEL)"
   ]
  },
  {
   "cell_type": "code",
   "execution_count": null,
   "metadata": {},
   "outputs": [],
   "source": [
    "TEST_IMAGE = TEST_FOLDER + 'HINO_FN2P/group1_9_0_42_29.jpeg'\n",
    "img = tf.keras.utils.load_img(TEST_IMAGE, target_size=(224, 224))"
   ]
  },
  {
   "cell_type": "code",
   "execution_count": null,
   "metadata": {},
   "outputs": [],
   "source": [
    "# prediction\n",
    "img_array = tf.keras.utils.img_to_array(img)\n",
    "img_array = np.array([img_array])"
   ]
  },
  {
   "cell_type": "code",
   "execution_count": null,
   "metadata": {},
   "outputs": [],
   "source": [
    "predictions = model.predict(img_array)\n",
    "score = tf.nn.softmax(predictions[0])\n",
    "pred_class = all_classes[np.argmax(score)]"
   ]
  },
  {
   "cell_type": "code",
   "execution_count": null,
   "metadata": {},
   "outputs": [],
   "source": [
    "from IPython.display import Image, display\n",
    "print(\"Predicted class: \", pred_class)\n",
    "print('Actual class: ', TEST_IMAGE.split('/')[-2])\n",
    "print(\"Probability: \", end='')\n",
    "tf.print(tf.reduce_max(score))\n",
    "display(Image(filename=TEST_IMAGE))"
   ]
  }
 ],
 "metadata": {
  "kernelspec": {
   "display_name": "base",
   "language": "python",
   "name": "python3"
  },
  "language_info": {
   "codemirror_mode": {
    "name": "ipython",
    "version": 3
   },
   "file_extension": ".py",
   "mimetype": "text/x-python",
   "name": "python",
   "nbconvert_exporter": "python",
   "pygments_lexer": "ipython3",
   "version": "3.8.16"
  },
  "orig_nbformat": 4
 },
 "nbformat": 4,
 "nbformat_minor": 2
}
